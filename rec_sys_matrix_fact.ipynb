{
  "cells": [
    {
      "cell_type": "markdown",
      "metadata": {
        "id": "view-in-github"
      },
      "source": [
        "<a href=\"https://colab.research.google.com/github/thad75/TP_ENSEA_ELEVE/blob/main/2A/Option%20IA/TP3/Creating_a_Recommendation_System.ipynb\" target=\"_parent\"><img src=\"https://colab.research.google.com/assets/colab-badge.svg\" alt=\"Open In Colab\"/></a>"
      ]
    },
    {
      "cell_type": "code",
      "execution_count": 1,
      "metadata": {
        "colab": {
          "base_uri": "https://localhost:8080/"
        },
        "id": "LEAsm6M-PtqK",
        "outputId": "232a3a3c-5506-4647-b286-489ea34fd5a7"
      },
      "outputs": [
        {
          "name": "stdout",
          "output_type": "stream",
          "text": [
            "Collecting gdown\n",
            "  Downloading gdown-5.2.0-py3-none-any.whl (18 kB)\n",
            "Requirement already satisfied: beautifulsoup4 in ./virtualenv/lib/python3.9/site-packages (from gdown) (4.12.3)\n",
            "Requirement already satisfied: requests[socks] in ./virtualenv/lib/python3.9/site-packages (from gdown) (2.31.0)\n",
            "Collecting filelock\n",
            "  Downloading filelock-3.15.4-py3-none-any.whl (16 kB)\n",
            "Collecting tqdm\n",
            "  Downloading tqdm-4.66.5-py3-none-any.whl (78 kB)\n",
            "\u001b[K     |████████████████████████████████| 78 kB 4.3 MB/s eta 0:00:01\n",
            "\u001b[?25hRequirement already satisfied: soupsieve>1.2 in ./virtualenv/lib/python3.9/site-packages (from beautifulsoup4->gdown) (2.5)\n",
            "Requirement already satisfied: certifi>=2017.4.17 in ./virtualenv/lib/python3.9/site-packages (from requests[socks]->gdown) (2024.2.2)\n",
            "Requirement already satisfied: idna<4,>=2.5 in ./virtualenv/lib/python3.9/site-packages (from requests[socks]->gdown) (3.6)\n",
            "Requirement already satisfied: charset-normalizer<4,>=2 in ./virtualenv/lib/python3.9/site-packages (from requests[socks]->gdown) (3.3.2)\n",
            "Requirement already satisfied: urllib3<3,>=1.21.1 in ./virtualenv/lib/python3.9/site-packages (from requests[socks]->gdown) (2.2.1)\n",
            "Collecting PySocks!=1.5.7,>=1.5.6\n",
            "  Downloading PySocks-1.7.1-py3-none-any.whl (16 kB)\n",
            "Installing collected packages: PySocks, tqdm, filelock, gdown\n",
            "Successfully installed PySocks-1.7.1 filelock-3.15.4 gdown-5.2.0 tqdm-4.66.5\n",
            "\u001b[33mWARNING: You are using pip version 21.2.3; however, version 24.2 is available.\n",
            "You should consider upgrading via the '/Users/sacha.lahlou/Library/CloudStorage/OneDrive-PMU/recoSysPractice/virtualenv/bin/python3 -m pip install --upgrade pip' command.\u001b[0m\n",
            "/Users/sacha.lahlou/Library/CloudStorage/OneDrive-PMU/recoSysPractice/virtualenv/lib/python3.9/site-packages/gdown/__main__.py:140: FutureWarning: Option `--id` was deprecated in version 4.3.1 and will be removed in 5.0. You don't need to pass it anymore to use a file ID.\n",
            "  warnings.warn(\n",
            "Downloading...\n",
            "From: https://drive.google.com/uc?id=1b9XN-AD2ph6Akdy4gpWdx8rIlK6HZ-u9\n",
            "To: /Users/sacha.lahlou/Library/CloudStorage/OneDrive-PMU/recoSysPractice/ratings_Beauty.csv\n",
            "100%|██████████████████████████████████████| 82.4M/82.4M [00:05<00:00, 15.8MB/s]\n",
            "Collecting pytorch-lightning\n",
            "  Downloading pytorch_lightning-2.4.0-py3-none-any.whl (815 kB)\n",
            "\u001b[K     |████████████████████████████████| 815 kB 5.0 MB/s eta 0:00:01\n",
            "\u001b[?25hCollecting lightning-utilities>=0.10.0\n",
            "  Downloading lightning_utilities-0.11.6-py3-none-any.whl (26 kB)\n",
            "Collecting fsspec[http]>=2022.5.0\n",
            "  Downloading fsspec-2024.6.1-py3-none-any.whl (177 kB)\n",
            "\u001b[K     |████████████████████████████████| 177 kB 37.4 MB/s eta 0:00:01\n",
            "\u001b[?25hRequirement already satisfied: typing-extensions>=4.4.0 in ./virtualenv/lib/python3.9/site-packages (from pytorch-lightning) (4.10.0)\n",
            "Requirement already satisfied: tqdm>=4.57.0 in ./virtualenv/lib/python3.9/site-packages (from pytorch-lightning) (4.66.5)\n",
            "Requirement already satisfied: PyYAML>=5.4 in ./virtualenv/lib/python3.9/site-packages (from pytorch-lightning) (6.0.1)\n",
            "Collecting torch>=2.1.0\n",
            "  Downloading torch-2.4.0-cp39-none-macosx_11_0_arm64.whl (62.1 MB)\n",
            "\u001b[K     |████████████████████████████████| 62.1 MB 424 kB/s  eta 0:00:01     |████████████████████████▍       | 47.4 MB 41.2 MB/s eta 0:00:01\n",
            "\u001b[?25hRequirement already satisfied: packaging>=20.0 in ./virtualenv/lib/python3.9/site-packages (from pytorch-lightning) (24.0)\n",
            "Collecting torchmetrics>=0.7.0\n",
            "  Downloading torchmetrics-1.4.1-py3-none-any.whl (866 kB)\n",
            "\u001b[K     |████████████████████████████████| 866 kB 39.1 MB/s eta 0:00:01\n",
            "\u001b[?25hCollecting aiohttp!=4.0.0a0,!=4.0.0a1\n",
            "  Downloading aiohttp-3.10.1-cp39-cp39-macosx_11_0_arm64.whl (386 kB)\n",
            "\u001b[K     |████████████████████████████████| 386 kB 52.4 MB/s eta 0:00:01\n",
            "\u001b[?25hCollecting aiosignal>=1.1.2\n",
            "  Downloading aiosignal-1.3.1-py3-none-any.whl (7.6 kB)\n",
            "Collecting frozenlist>=1.1.1\n",
            "  Downloading frozenlist-1.4.1-cp39-cp39-macosx_11_0_arm64.whl (53 kB)\n",
            "\u001b[K     |████████████████████████████████| 53 kB 9.6 MB/s  eta 0:00:01\n",
            "\u001b[?25hCollecting aiohappyeyeballs>=2.3.0\n",
            "  Downloading aiohappyeyeballs-2.3.5-py3-none-any.whl (12 kB)\n",
            "Requirement already satisfied: attrs>=17.3.0 in ./virtualenv/lib/python3.9/site-packages (from aiohttp!=4.0.0a0,!=4.0.0a1->fsspec[http]>=2022.5.0->pytorch-lightning) (23.2.0)\n",
            "Collecting yarl<2.0,>=1.0\n",
            "  Downloading yarl-1.9.4-cp39-cp39-macosx_11_0_arm64.whl (81 kB)\n",
            "\u001b[K     |████████████████████████████████| 81 kB 4.3 MB/s eta 0:00:01\n",
            "\u001b[?25hCollecting async-timeout<5.0,>=4.0\n",
            "  Downloading async_timeout-4.0.3-py3-none-any.whl (5.7 kB)\n",
            "Collecting multidict<7.0,>=4.5\n",
            "  Downloading multidict-6.0.5-cp39-cp39-macosx_11_0_arm64.whl (30 kB)\n",
            "Requirement already satisfied: setuptools in ./virtualenv/lib/python3.9/site-packages (from lightning-utilities>=0.10.0->pytorch-lightning) (57.4.0)\n",
            "Requirement already satisfied: jinja2 in ./virtualenv/lib/python3.9/site-packages (from torch>=2.1.0->pytorch-lightning) (3.1.3)\n",
            "Collecting sympy\n",
            "  Downloading sympy-1.13.1-py3-none-any.whl (6.2 MB)\n",
            "\u001b[K     |████████████████████████████████| 6.2 MB 13.4 MB/s eta 0:00:01\n",
            "\u001b[?25hCollecting networkx\n",
            "  Downloading networkx-3.2.1-py3-none-any.whl (1.6 MB)\n",
            "\u001b[K     |████████████████████████████████| 1.6 MB 52.7 MB/s eta 0:00:01\n",
            "\u001b[?25hRequirement already satisfied: filelock in ./virtualenv/lib/python3.9/site-packages (from torch>=2.1.0->pytorch-lightning) (3.15.4)\n",
            "Requirement already satisfied: numpy>1.20.0 in ./virtualenv/lib/python3.9/site-packages (from torchmetrics>=0.7.0->pytorch-lightning) (1.26.4)\n",
            "Requirement already satisfied: idna>=2.0 in ./virtualenv/lib/python3.9/site-packages (from yarl<2.0,>=1.0->aiohttp!=4.0.0a0,!=4.0.0a1->fsspec[http]>=2022.5.0->pytorch-lightning) (3.6)\n",
            "Requirement already satisfied: MarkupSafe>=2.0 in ./virtualenv/lib/python3.9/site-packages (from jinja2->torch>=2.1.0->pytorch-lightning) (2.1.5)\n",
            "Collecting mpmath<1.4,>=1.1.0\n",
            "  Downloading mpmath-1.3.0-py3-none-any.whl (536 kB)\n",
            "\u001b[K     |████████████████████████████████| 536 kB 10.0 MB/s eta 0:00:01\n",
            "\u001b[?25hInstalling collected packages: multidict, mpmath, frozenlist, yarl, sympy, networkx, fsspec, async-timeout, aiosignal, aiohappyeyeballs, torch, lightning-utilities, aiohttp, torchmetrics, pytorch-lightning\n",
            "Successfully installed aiohappyeyeballs-2.3.5 aiohttp-3.10.1 aiosignal-1.3.1 async-timeout-4.0.3 frozenlist-1.4.1 fsspec-2024.6.1 lightning-utilities-0.11.6 mpmath-1.3.0 multidict-6.0.5 networkx-3.2.1 pytorch-lightning-2.4.0 sympy-1.13.1 torch-2.4.0 torchmetrics-1.4.1 yarl-1.9.4\n",
            "\u001b[33mWARNING: You are using pip version 21.2.3; however, version 24.2 is available.\n",
            "You should consider upgrading via the '/Users/sacha.lahlou/Library/CloudStorage/OneDrive-PMU/recoSysPractice/virtualenv/bin/python3 -m pip install --upgrade pip' command.\u001b[0m\n"
          ]
        }
      ],
      "source": [
        "!pip install gdown\n",
        "!gdown --id 1b9XN-AD2ph6Akdy4gpWdx8rIlK6HZ-u9\n",
        "!pip install pytorch-lightning\n",
        "import pandas as pd\n",
        "import matplotlib.pyplot as plt\n",
        "import numpy as np\n",
        "import random\n",
        "import pytorch_lightning as pl\n",
        "import numpy as np\n",
        "from scipy.sparse.csgraph import laplacian\n",
        "import torch\n",
        "import torch.nn as nn\n",
        "from torch.nn import Module\n",
        "from scipy.sparse import coo_matrix\n",
        "import scipy.sparse as sparse\n",
        "from sklearn import preprocessing\n",
        "from torch.utils.data import DataLoader\n",
        "from torch.utils.data import Dataset\n",
        "from sklearn import preprocessing\n",
        "import torch\n",
        "\n",
        "from sklearn.model_selection import train_test_split"
      ]
    },
    {
      "cell_type": "markdown",
      "metadata": {
        "id": "xNNTMCb-HK7C"
      },
      "source": [
        "Before beginning anything :    \n",
        "* Go on the following link : https://drive.google.com/drive/folders/11jRhJ9febEg7eQ8aGx0x0P8iqLpVwCNS?usp=sharing\n",
        "* Read the README file"
      ]
    },
    {
      "cell_type": "markdown",
      "metadata": {
        "id": "vE-RoQVUgZWm"
      },
      "source": [
        "# Recommendation Systems\n",
        "\n",
        "A Recommendation System is a system able to recommend an item for a user depending on either :\n",
        "* the content watched by the user i.e content based filtering\n",
        "* the behavior of a user on items i.e collaborative filtering\n",
        "\n",
        "In this lab, we will see two different Recommendation System Algorithm."
      ]
    },
    {
      "cell_type": "markdown",
      "metadata": {
        "id": "Z1vTWehb4On4"
      },
      "source": [
        "# Goal of this lab\n",
        "\n",
        "* Understand Recommendation Systems\n",
        "* Build a Graph Recommendation System\n",
        "* Build a Matrix Factorisation Recommendation System\n",
        "* Use Pytorch Lightning\n",
        "* Understand the importance of Embeddings in Deep Learning"
      ]
    },
    {
      "cell_type": "markdown",
      "metadata": {
        "id": "mM-mBmqnNX8o"
      },
      "source": [
        "# I - Dataset\n",
        "\n",
        "For this lab, we will be using a famous dataset. We will use the Amazon Luxury Dataset. The data are loaded into a Pandas Dataframe. Let's analyze and understand the dataset.\n",
        "\n",
        "\n",
        "\n",
        "* What are the Dataframes keys ?\n",
        "* How many items are there ? How many users are there ?\n",
        "* What's the span of the ratings ?\n",
        "* Plot the number of Ratings that are present. Is it a Gaussian Distribution ? A Skewed Gaussian Distribution ?\n",
        "* What could it mean on the quality of the products ?\n"
      ]
    },
    {
      "cell_type": "markdown",
      "metadata": {
        "id": "LDYo4IEX4LKk"
      },
      "source": [
        "## Applying it on a real Dataset\n",
        "\n",
        "\n",
        "* Using pivot methods, transform your dataframe to a Rating Matrix. If your session crashes, pass this question. You'll create other Rating Matrix later."
      ]
    },
    {
      "cell_type": "code",
      "execution_count": 2,
      "metadata": {
        "id": "S7h4vWCP8D5-"
      },
      "outputs": [],
      "source": [
        "# TODO : Read the downloaded CSV file\n",
        "df = pd.read_csv('./ratings_Beauty.csv')\n",
        "# TODO : Answer the previous questions\n"
      ]
    },
    {
      "cell_type": "code",
      "execution_count": 3,
      "metadata": {
        "colab": {
          "base_uri": "https://localhost:8080/"
        },
        "id": "pS09aXWp9kaY",
        "outputId": "07ba43f8-02a8-4862-de7b-c21bd42533eb"
      },
      "outputs": [
        {
          "name": "stdout",
          "output_type": "stream",
          "text": [
            "dataset keys: Index(['UserId', 'ProductId', 'Rating', 'Timestamp'], dtype='object')\n",
            "number of datapoint: 2023070\n",
            "span of the ratings: from 1.0 to 5.0\n"
          ]
        }
      ],
      "source": [
        "# let's make a little data exploration\n",
        "\n",
        "# first thing first\n",
        "df.head()\n",
        "\n",
        "# the data set is simple and straight forward, we have, for each row, a user-item pair with the associated rating (0, 5, step=1)\n",
        "# and the timestamp of the rating\n",
        "print('dataset keys:', df.keys())\n",
        "print('number of datapoint:', df.shape[0])\n",
        "min, max = df['Rating'].min(), df['Rating'].max()\n",
        "print('span of the ratings:', f'from {min} to {max}')\n"
      ]
    },
    {
      "cell_type": "code",
      "execution_count": 4,
      "metadata": {
        "colab": {
          "base_uri": "https://localhost:8080/",
          "height": 472
        },
        "id": "9dm8g-oy-Vgi",
        "outputId": "d8ca3e53-df79-4c02-bd4d-16df4472bfdb"
      },
      "outputs": [
        {
          "data": {
            "image/png": "[encoded data removed]",
            "text/plain": [
              "<Figure size 640x480 with 1 Axes>"
            ]
          },
          "metadata": {},
          "output_type": "display_data"
        }
      ],
      "source": [
        "# let plot ratings distribution\n",
        "import matplotlib.pyplot as plt\n",
        "\n",
        "# Example data\n",
        "data = df['Rating']\n",
        "counts = [data.value_counts()[float(i + 1)] for i in range(5)]\n",
        "# Plot histogram\n",
        "plt.bar([1, 2, 3, 4, 5], counts, color='skyblue', edgecolor='black')\n",
        "plt.xticks([1, 2, 3, 4, 5])\n",
        "\n",
        "# Add labels and title\n",
        "plt.xlabel('Categories')\n",
        "plt.ylabel('Counts')\n",
        "plt.title('rate distribution')\n",
        "\n",
        "plt.show()"
      ]
    },
    {
      "cell_type": "code",
      "execution_count": 5,
      "metadata": {
        "colab": {
          "base_uri": "https://localhost:8080/"
        },
        "id": "3OCgA4LXDnsl",
        "outputId": "592e9a03-d46f-4323-e426-4d047764b677"
      },
      "outputs": [
        {
          "name": "stdout",
          "output_type": "stream",
          "text": [
            "--> 4 and 5 ratings proportion: 76.936 %\n"
          ]
        }
      ],
      "source": [
        "# we can clearly see a left skewed gaussian distribution wich tell us intuitively\n",
        "# that majority of users rated highly (4 / 5)\n",
        "freq = ( (data.value_counts()[float(4)] + data.value_counts()[float(5)]) / data.shape[0] ) * 100\n",
        "\n",
        "print(f'--> 4 and 5 ratings proportion: {freq:.3f} %')"
      ]
    },
    {
      "cell_type": "code",
      "execution_count": 6,
      "metadata": {
        "id": "xfnLg_CQM_Xu"
      },
      "outputs": [],
      "source": [
        "# we can confidently say that the overall quality of the products are good as more than 75% of the product are posively rated."
      ]
    },
    {
      "cell_type": "markdown",
      "metadata": {
        "id": "WYzv3TXP4fgQ"
      },
      "source": [
        "# II - Matrix Factorization\n"
      ]
    },
    {
      "cell_type": "markdown",
      "metadata": {
        "id": "tc1j53ZLoc_9"
      },
      "source": [
        "## The Theory\n",
        "\n",
        "Matrix Factorization is an easy yet powerful recommendation algorithm. In fact, it is a simple embedding model. To remind you, an embedding is another representation of a vector, in a lower dimension space. The good thing about Matrix Factorization is its usability for either content based recommendation or collaborative filtering based recommendation. This is one of the earliest model used by Netflix.\n",
        "\n",
        "Matrix Factorization finds latent structure in data such as it decomposes a Feedback Matrix $A\\in \\mathbb{R}^{M*N}$ with M the number of users and n the number of items, into :     \n",
        "* $P$ :  a user embedding matrix $\\in \\mathbb{R}^{M*K}$\n",
        "* $Q$ : an item embedding matrix $\\in \\mathbb{R}^{N*K}$\n",
        "\n",
        "The embeddings are learned such that\n",
        "$ \\hat{A} = P*Q^{T} \\approx A$\n",
        "\n",
        "We define the Objective Function as\n",
        "\n",
        "$ \\underset{P \\in \\mathbb{R}^{M*K},  Q\\in \\mathbb{R}^{N*K}} min\\underset{i,j\\in{obs}}\\sum(A_{ij} - \\hat{A{ij}})^{2} $ over $P$ and  $Q$\n",
        "\n",
        "To update the values of the matrixes, we use the typical Gradient Descent. In fact, each element of P and Q are updated using the following equations :\n",
        "\n",
        "$p_{ik} = p_{ik} + 2\\alpha*error* q_{kj}$\n",
        "\n",
        "$q_{kj} = q_{kj} + 2\\alpha*error* p_{ik}$\n",
        "\n"
      ]
    },
    {
      "cell_type": "markdown",
      "metadata": {
        "id": "-mV3Fc3KWX0J"
      },
      "source": [
        "* Where do the $p_{ik}$ and $q_{kj}$ update formula come from ?\n",
        "\n",
        "--> the formula come from the derivative of the loss function with respect to each 'weight' or entries of the matrix. multiplied by \\alpha the learning rate\n",
        "\n",
        "for the detail:\n",
        "the factor 2 is the square going down\n",
        "then we use the chain rule to pull out Aij wich leave the error intact\n",
        "then we derivate Aij with respect to P or Q wich leave respectively P or Q\n"
      ]
    },
    {
      "cell_type": "markdown",
      "metadata": {
        "id": "-znBCm4QWs5H"
      },
      "source": [
        "Now, we are going to code the Matrix Factorization Class that will perform matrix factorization for us.\n",
        "\n",
        "The class has 4 methods :\n",
        "* the init : for attribute initialization\n",
        "* the error : to compute the error\n",
        "* the update : to update the elements of P and Q\n",
        "* the run : to perform the calcultation for a num_step of times"
      ]
    },
    {
      "cell_type": "code",
      "execution_count": 7,
      "metadata": {
        "colab": {
          "base_uri": "https://localhost:8080/"
        },
        "id": "pl9wN8Ifw36Z",
        "outputId": "045b2079-8d18-4043-9ca6-48806e0bd0d9"
      },
      "outputs": [
        {
          "name": "stdout",
          "output_type": "stream",
          "text": [
            "(3, 5) (5, 3)\n",
            "[2 5 3]\n"
          ]
        }
      ],
      "source": [
        "user_latent = np.array([[1, 1, 2, 5, 5],\n",
        "                        [2, 2, 5, 5, 5],\n",
        "                       [3, 3, 3, 4, 4] ])\n",
        "\n",
        "item_latent = np.array([[1, 1, 2],\n",
        "                        [2, 2, 5],\n",
        "                        [3, 5, 3],\n",
        "                        [3, 6, 3],\n",
        "                        [3, 7, 3]])\n",
        "\n",
        "print(user_latent.shape, item_latent.shape)\n",
        "\n",
        "print(user_latent[:, 2])"
      ]
    },
    {
      "cell_type": "code",
      "execution_count": 8,
      "metadata": {
        "id": "ZJQZrovMq4Y1"
      },
      "outputs": [],
      "source": [
        "class Matrix_Factorization():\n",
        "  \"\"\"\n",
        "  This class performs Matrix Factorization for a given FeedBack Matrix\n",
        "\n",
        "\n",
        "  \"\"\"\n",
        "\n",
        "  def __init__(self,A, latent_dim, steps= 5000, learning_rate = 0.0002):\n",
        "\n",
        "      self.A = A\n",
        "      self.latent_dim = latent_dim\n",
        "      self.steps = steps\n",
        "      self.learning_rate = learning_rate\n",
        "\n",
        "      # TODO : Initialize the correct attributes\n",
        "      # M,N are the shape of the FeedBack Matrix\n",
        "      self.M, self.N  = A.shape[0], A.shape[1]\n",
        "\n",
        "      # TODO : Initialize two random matrix P and Q. Don't forget to Transpose Q\n",
        "      self.P = np.random.rand(self.M, self.latent_dim)\n",
        "      self.Q = ( np.random.rand(self.N, self.latent_dim) ).transpose()\n",
        "\n",
        "  def error(self, a, b):\n",
        "      # TODO : Return the error : the difference between a and b\n",
        "      return (a - b)\n",
        "\n",
        "  def update(self):\n",
        "    # TODO : Perform element update using gradient descent\n",
        "    # TODO : Iterate among the user\n",
        "    for user in range(self.M):\n",
        "        # TODO : Iterate among the items\n",
        "        for item in range(self.N):\n",
        "          if self.A[user][item]> 0: # why ??\n",
        "            # TODO : Compute the error between the GT Rating and the Predicted Rating of user on item\n",
        "            error = self.error(self.A[user][item], np.dot(self.P, self.Q)[user][item])\n",
        "            # TODO : Using the gradient descent formula update the values of the elements of P and Q\n",
        "            for latent in range(self.latent_dim):\n",
        "                self.P[user][latent] = self.P[user][latent] + 2 * self.learning_rate * error * self.Q[latent][item]\n",
        "                self.Q[latent][item] = self.Q[latent][item] + 2 * self.learning_rate * error * self.P[user][latent]\n",
        "\n",
        "\n",
        "  def run(self):\n",
        "    # TODO : Call the update method 'steps' times\n",
        "    for step in range(self.steps) :\n",
        "        self.update()\n",
        "        mat = np.dot(self.P, self.Q)\n",
        "    return mat\n"
      ]
    },
    {
      "cell_type": "markdown",
      "metadata": {
        "id": "nXfGbG-71nVC"
      },
      "source": [
        "### Testing it on Collaborative Filtering\n",
        "\n",
        "We give you this R matrix. As you can see the R matrix contains some outliers (Nan values)\n",
        "* How can we handle the outliers in this R matrix, what changes should you do ?\n",
        "* Define a function that handles the outliers of your input matrix."
      ]
    },
    {
      "cell_type": "code",
      "execution_count": 9,
      "metadata": {
        "colab": {
          "base_uri": "https://localhost:8080/"
        },
        "id": "bsqeJlhp1lXP",
        "outputId": "5b2a26c3-4e93-4192-c2fe-de3206172715"
      },
      "outputs": [
        {
          "data": {
            "text/plain": [
              "array([[0., 5., 1., 0., 4.],\n",
              "       [0., 0., 1., 0., 3.],\n",
              "       [0., 5., 0., 2., 0.],\n",
              "       [1., 0., 0., 5., 1.]])"
            ]
          },
          "execution_count": 9,
          "metadata": {},
          "output_type": "execute_result"
        }
      ],
      "source": [
        "# Not TODO : Define a Rating Matrix. An example of Rating Matrix is given\n",
        "R = np.array([[np.NaN,5,1,0,4],\n",
        "              [0,0,1,0,3],\n",
        "              [0,5,0,2,np.NaN],\n",
        "              [1,np.NaN,0,5,1] ])\n",
        "\n",
        "# TODO : Define a function that handles the outliers of the R matrix. Hint nan_to_num\n",
        "def correct_outliers(R):\n",
        "    return np.nan_to_num(R, nan=0)\n",
        "\n",
        "# TODO : Verify that your function works\n",
        "R = correct_outliers(R)\n",
        "R"
      ]
    },
    {
      "cell_type": "code",
      "execution_count": 10,
      "metadata": {
        "id": "JZE5Inac3Fae"
      },
      "outputs": [],
      "source": [
        "# TODO : Create an instance of the Matrix_Factorization Class\n",
        "latent_dim = 2\n",
        "MF = Matrix_Factorization(A = R,\n",
        "                          latent_dim=latent_dim)"
      ]
    },
    {
      "cell_type": "code",
      "execution_count": 11,
      "metadata": {
        "id": "qP0MA4Dt5Hyh"
      },
      "outputs": [],
      "source": [
        "# TODO : Calculate the approximated Rating Matrix using the run method\n",
        "mat = MF.run()"
      ]
    },
    {
      "cell_type": "code",
      "execution_count": 12,
      "metadata": {
        "colab": {
          "base_uri": "https://localhost:8080/"
        },
        "id": "Ewqb9pzyzmNR",
        "outputId": "dc13bc21-59fd-4af7-ad22-9417d8f50533"
      },
      "outputs": [
        {
          "name": "stdout",
          "output_type": "stream",
          "text": [
            "[[1.97273091 5.15930371 1.07663263 5.91140513 3.67225872]\n",
            " [1.65646176 4.34146553 0.91656429 4.89319505 3.09324331]\n",
            " [1.7204276  4.91011896 1.49235389 2.04393032 3.63175575]\n",
            " [0.88115573 2.00525429 0.07763717 4.90765052 1.32756175]]\n"
          ]
        }
      ],
      "source": [
        "print(mat)"
      ]
    },
    {
      "cell_type": "markdown",
      "metadata": {
        "id": "TFEsDZN4Ch_T"
      },
      "source": [
        "## Testing on the Luxury Dataset\n",
        "\n",
        "Now let's test our model on the Luxury Dataset. As you've seen, there's too much data for this Algorithm to handle. The computation time would be too much. We are going to restrict the dataset for the 50 first elements.\n",
        "In order to check the capacity of the algorithm. We masked few ratings to Nan values. The goal is to check if the model would be able to recapture the original rating."
      ]
    },
    {
      "cell_type": "code",
      "execution_count": 13,
      "metadata": {
        "colab": {
          "base_uri": "https://localhost:8080/"
        },
        "id": "Rn84GbtzHKIq",
        "outputId": "0ba9aa4b-809c-4887-fcf6-e202659bee6c"
      },
      "outputs": [
        {
          "name": "stdout",
          "output_type": "stream",
          "text": [
            "            UserId   ProductId  Rating   Timestamp\n",
            "0   A39HTATAQ9V7YF  0205616461     5.0  1369699200\n",
            "1   A3JM6GV9MNOF9X  0558925278     3.0  1355443200\n",
            "2   A1Z513UWSAAO0F  0558925278     5.0  1404691200\n",
            "3   A1WMRR494NWEWV  0733001998     4.0  1382572800\n",
            "4   A3IAAVS479H7M7  0737104473     1.0  1274227200\n",
            "5    AKJHHD5VEH7VG  0762451459     5.0  1404518400\n",
            "6   A1BG8QW55XHN6U  1304139212     5.0  1371945600\n",
            "7   A22VW0P4VZHDE3  1304139220     5.0  1373068800\n",
            "8   A3V3RE4132GKRO  130414089X     5.0  1401840000\n",
            "9   A327B0I7CYTEJC  130414643X     4.0  1389052800\n",
            "10  A1BG8QW55XHN6U  130414643X     5.0  1372032000\n",
            "11   AIFAAVTUYHEHB  130414643X     4.0  1378252800\n",
            "12   AVOGV98AYOFG2  1304146537     5.0  1372118400\n",
            "13  A22VW0P4VZHDE3  130414674X     5.0  1371686400\n",
            "14   AVOGV98AYOFG2  1304168522     5.0  1372118400\n",
            "15   A6R426V4J7AOM  1304168522     5.0  1373414400\n",
            "16  A22VW0P4VZHDE3  1304174778     5.0  1372896000\n",
            "17   AKGB62WGF35J8  1304174778     5.0  1372896000\n",
            "18  A22VW0P4VZHDE3  1304174867     5.0  1373068800\n",
            "19  A1BG8QW55XHN6U  1304174867     5.0  1372291200\n",
            "20  A1BG8QW55XHN6U  1304174905     5.0  1372291200\n",
            "21  A22VW0P4VZHDE3  1304196046     5.0  1372896000\n",
            "22  A22VW0P4VZHDE3  1304196062     5.0  1372896000\n",
            "23  A3A4C2K3TWDAO5  1304196070     1.0  1378425600\n",
            "24  A3FV2Q7WPZMQPV  1304196135     5.0  1375488000\n",
            "25  A22VW0P4VZHDE3  1304196135     5.0  1372896000\n",
            "26  A1RXI3A1E99112  1304351475     5.0  1405296000\n",
            "27  A26QL1FBQO9C0E  1304351475     5.0  1392076800\n",
            "28  A19KEEVZYO1KO6  1304351475     4.0  1388707200\n",
            "29  A1F6HRR58TQ2R0  1304351475     5.0  1394928000\n",
            "30   AVQP6PO1NK0IJ  1304351475     1.0  1389657600\n",
            "31  A32IWHU4TUEQZR  1304351475     4.0  1383523200\n",
            "32   ASPJCWRXUOYYY  1304351475     5.0  1392681600\n",
            "33  A1LAW520BT5AM0  1304351475     1.0  1392422400\n",
            "34  A3SWQ2QQ7JBPFA  1304351475     5.0  1402790400\n",
            "35  A2D7CPCZH5VFVZ  1304351475     1.0  1396742400\n",
            "36  A274NIJWOQWE30  1304351475     5.0  1385251200\n",
            "37  A2OMU0R0VM5O9I  1304351475     1.0  1397606400\n",
            "38  A2YFDS6DYGFLVQ  1304351475     5.0  1405036800\n",
            "39   AKA7T9TPISJ26  1304351475     1.0  1399680000\n",
            "40   AN33X95J5460X  1304351475     4.0  1395187200\n",
            "41  A2UEOW698J0SSR  1304351475     5.0  1397779200\n",
            "42  A22ZFXQE8AWPEP  1304482596     1.0  1383177600\n",
            "43   A6R426V4J7AOM  1304482596     5.0  1384992000\n",
            "44   A9ZNJ2AXPO652  1304482634     2.0  1386028800\n",
            "45  A169NC0ZW6XKRD  1304482685     3.0  1391558400\n",
            "46    AZWRTJPN7NXT  1304482685     5.0  1383004800\n",
            "47  A22ZFXQE8AWPEP  1304482685     1.0  1383177600\n",
            "48   AH344ZAN5GNOM  1304482685     5.0  1391558400\n",
            "49  A1YQUT1H2ENJ8U  1304482685     4.0  1383004800\n"
          ]
        }
      ],
      "source": [
        "# TODO : Keep the 50 first elements of the df dataframe\n",
        "mf_df = df.iloc[:50]\n",
        "\n",
        "mf_df_train = mf_df.copy()\n",
        "\n",
        "print(mf_df)"
      ]
    },
    {
      "cell_type": "code",
      "execution_count": 14,
      "metadata": {
        "colab": {
          "base_uri": "https://localhost:8080/"
        },
        "id": "mIUTeJhWE7AY",
        "outputId": "4aa6bb66-2c68-4b7e-d6c2-b630f955536c"
      },
      "outputs": [
        {
          "name": "stdout",
          "output_type": "stream",
          "text": [
            "            UserId   ProductId  Rating   Timestamp\n",
            "0   A39HTATAQ9V7YF  0205616461     5.0  1369699200\n",
            "1   A3JM6GV9MNOF9X  0558925278     3.0  1355443200\n",
            "2   A1Z513UWSAAO0F  0558925278     5.0  1404691200\n",
            "3   A1WMRR494NWEWV  0733001998     4.0  1382572800\n",
            "4   A3IAAVS479H7M7  0737104473     1.0  1274227200\n",
            "5    AKJHHD5VEH7VG  0762451459     5.0  1404518400\n",
            "6   A1BG8QW55XHN6U  1304139212     5.0  1371945600\n",
            "7   A22VW0P4VZHDE3  1304139220     5.0  1373068800\n",
            "8   A3V3RE4132GKRO  130414089X     5.0  1401840000\n",
            "9   A327B0I7CYTEJC  130414643X     4.0  1389052800\n",
            "10  A1BG8QW55XHN6U  130414643X     NaN  1372032000\n",
            "11   AIFAAVTUYHEHB  130414643X     4.0  1378252800\n",
            "12   AVOGV98AYOFG2  1304146537     5.0  1372118400\n",
            "13  A22VW0P4VZHDE3  130414674X     5.0  1371686400\n",
            "14   AVOGV98AYOFG2  1304168522     5.0  1372118400\n",
            "15   A6R426V4J7AOM  1304168522     5.0  1373414400\n",
            "16  A22VW0P4VZHDE3  1304174778     5.0  1372896000\n",
            "17   AKGB62WGF35J8  1304174778     5.0  1372896000\n",
            "18  A22VW0P4VZHDE3  1304174867     NaN  1373068800\n",
            "19  A1BG8QW55XHN6U  1304174867     5.0  1372291200\n",
            "20  A1BG8QW55XHN6U  1304174905     5.0  1372291200\n",
            "21  A22VW0P4VZHDE3  1304196046     5.0  1372896000\n",
            "22  A22VW0P4VZHDE3  1304196062     5.0  1372896000\n",
            "23  A3A4C2K3TWDAO5  1304196070     1.0  1378425600\n",
            "24  A3FV2Q7WPZMQPV  1304196135     5.0  1375488000\n",
            "25  A22VW0P4VZHDE3  1304196135     5.0  1372896000\n",
            "26  A1RXI3A1E99112  1304351475     5.0  1405296000\n",
            "27  A26QL1FBQO9C0E  1304351475     5.0  1392076800\n",
            "28  A19KEEVZYO1KO6  1304351475     NaN  1388707200\n",
            "29  A1F6HRR58TQ2R0  1304351475     5.0  1394928000\n",
            "30   AVQP6PO1NK0IJ  1304351475     1.0  1389657600\n",
            "31  A32IWHU4TUEQZR  1304351475     4.0  1383523200\n",
            "32   ASPJCWRXUOYYY  1304351475     NaN  1392681600\n",
            "33  A1LAW520BT5AM0  1304351475     1.0  1392422400\n",
            "34  A3SWQ2QQ7JBPFA  1304351475     NaN  1402790400\n",
            "35  A2D7CPCZH5VFVZ  1304351475     1.0  1396742400\n",
            "36  A274NIJWOQWE30  1304351475     5.0  1385251200\n",
            "37  A2OMU0R0VM5O9I  1304351475     1.0  1397606400\n",
            "38  A2YFDS6DYGFLVQ  1304351475     5.0  1405036800\n",
            "39   AKA7T9TPISJ26  1304351475     1.0  1399680000\n",
            "40   AN33X95J5460X  1304351475     4.0  1395187200\n",
            "41  A2UEOW698J0SSR  1304351475     5.0  1397779200\n",
            "42  A22ZFXQE8AWPEP  1304482596     1.0  1383177600\n",
            "43   A6R426V4J7AOM  1304482596     5.0  1384992000\n",
            "44   A9ZNJ2AXPO652  1304482634     2.0  1386028800\n",
            "45  A169NC0ZW6XKRD  1304482685     3.0  1391558400\n",
            "46    AZWRTJPN7NXT  1304482685     5.0  1383004800\n",
            "47  A22ZFXQE8AWPEP  1304482685     1.0  1383177600\n",
            "48   AH344ZAN5GNOM  1304482685     5.0  1391558400\n",
            "49  A1YQUT1H2ENJ8U  1304482685     4.0  1383004800\n"
          ]
        }
      ],
      "source": [
        "# Here we apply some Random Nan values\n",
        "random.seed(10)\n",
        "for i,value in enumerate(mf_df_train['Rating']):\n",
        "  if random.randint(0,5)==5:\n",
        "      mf_df_train.loc[i, 'Rating'] = np.NaN\n",
        "print(mf_df_train)"
      ]
    },
    {
      "cell_type": "markdown",
      "metadata": {
        "id": "Fhqty0jDPN7a"
      },
      "source": [
        "The mf_df_train dataframe corresponds to the mf_df dataset but with some nan values in the Rating column.\n",
        "* Create a Rating Matrix using 'UserId' as Index and 'ProductId' as Columns.\n",
        "* Initialize well the values of the Rating Matrix and convert it to numpy array.\n",
        "* Run Matrix Factorization on the given Matrix for a feature space of size 2"
      ]
    },
    {
      "cell_type": "code",
      "execution_count": 15,
      "metadata": {
        "colab": {
          "base_uri": "https://localhost:8080/"
        },
        "id": "XfPpiYZiGCH0",
        "outputId": "4f47ae91-4a23-422b-89f3-474abe2a43c1"
      },
      "outputs": [
        {
          "name": "stdout",
          "output_type": "stream",
          "text": [
            "(38, 23)\n"
          ]
        }
      ],
      "source": [
        "mf_df_train\n",
        "\n",
        "# TODO : Using pivot method, create a Rating Matrix , with index : UserId and Columns : ProductId\n",
        "R = mf_df_train.pivot(index='UserId', columns='ProductId', values='Rating')\n",
        "print(R.shape)\n",
        "# TODO : Using a function defined previously, initialize the Nan values to 0\n",
        "R = correct_outliers(R)\n",
        "# TODO : Run Matrix Factorization for a latent space of dimension 2\n",
        "latent_dim = 2\n",
        "MF = Matrix_Factorization(R,latent_dim)\n",
        "R_pred = MF.run()"
      ]
    },
    {
      "cell_type": "code",
      "execution_count": 16,
      "metadata": {
        "colab": {
          "base_uri": "https://localhost:8080/"
        },
        "id": "Px-zFhkdCboX",
        "outputId": "c106b6a4-3102-4874-b8b2-84b82891b695"
      },
      "outputs": [
        {
          "name": "stdout",
          "output_type": "stream",
          "text": [
            "(38, 23)\n",
            "Will user 6 like item 9 ? 4.179799823707917 it seems like YES\n",
            "Will user 4 like item 2 ? 0.538199164517305 it seems like NO\n"
          ]
        }
      ],
      "source": [
        "print(R_pred.shape)\n",
        "\n",
        "# question 1\n",
        "print('Will user 6 like item 9 ?', R_pred[6][9], 'it seems like YES')\n",
        "print('Will user 4 like item 2 ?', R_pred[4][2], 'it seems like NO')\n"
      ]
    },
    {
      "cell_type": "markdown",
      "metadata": {
        "id": "YO76Gn7hQjY0"
      },
      "source": [
        "Now let's answer the following questions :\n",
        "* Will user 6 like item 9 ?\n",
        "* Will user 4 like item 2 ?\n",
        "* What do you think of this model ? (Is it fast ? Is it efficient ? Does it need lot of engineering ?)\n",
        "\n",
        "--> this model i fast and straight forward, there is no heavy data engineering except from contructing the item/user matrix.\n",
        "\n",
        "--> the efficiency remains to prove. I guess that for more latent feature extraction (bigger latent factor) and a more realistic dataset, the computing could get very heavy."
      ]
    },
    {
      "cell_type": "markdown",
      "metadata": {
        "id": "Z9DWmwOgGkzJ"
      },
      "source": [
        "As you can see, it is hard to find a real way to compute the metrics of the model. Here, we just looked if the model is able to find masked items."
      ]
    },
    {
      "cell_type": "markdown",
      "metadata": {},
      "source": []
    },
    {
      "cell_type": "markdown",
      "metadata": {},
      "source": []
    }
  ],
  "metadata": {
    "colab": {
      "provenance": []
    },
    "kernelspec": {
      "display_name": "Python 3",
      "name": "python3"
    },
    "language_info": {
      "codemirror_mode": {
        "name": "ipython",
        "version": 3
      },
      "file_extension": ".py",
      "mimetype": "text/x-python",
      "name": "python",
      "nbconvert_exporter": "python",
      "pygments_lexer": "ipython3",
      "version": "3.9.7"
    }
  },
  "nbformat": 4,
  "nbformat_minor": 0
}
